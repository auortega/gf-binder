{
 "cells": [
  {
   "cell_type": "code",
   "execution_count": 17,
   "metadata": {},
   "outputs": [
    {
     "data": {
      "text/plain": [
       "Abstract changed, previous concretes discarded.\n"
      ]
     },
     "metadata": {},
     "output_type": "display_data"
    }
   ],
   "source": [
    "abstract Narrative = {\n",
    "    flags startcat = Narrative;\n",
    "\n",
    "    cat\n",
    "    Narrative ;\n",
    "    Element ;\n",
    "    Intro ;\n",
    "    \n",
    "    fun\n",
    "    element : Element ;\n",
    "    describe : Intro -> Element -> Narrative ;\n",
    "    shows: Element -> Intro;\n",
    "    \n",
    "}"
   ]
  },
  {
   "cell_type": "code",
   "execution_count": 18,
   "metadata": {},
   "outputs": [
    {
     "data": {
      "application/vnd.jupyter.widget-view+json": {
       "model_id": "724c0728596c41e3993df20c5bf40a71",
       "version_major": 2,
       "version_minor": 0
      },
      "text/plain": [
       "Image(value=b'\\x89PNG\\r\\n\\x1a\\n\\x00\\x00\\x00\\rIHDR\\x00\\x00\\x01O\\x00\\x00\\x00\\xfb\\x08\\x06\\x00\\x00\\x00\\xea\\xe1\\x16…"
      ]
     },
     "metadata": {},
     "output_type": "display_data"
    }
   ],
   "source": [
    "view gt | vt"
   ]
  },
  {
   "cell_type": "code",
   "execution_count": 22,
   "metadata": {},
   "outputs": [
    {
     "data": {
      "text/plain": [
       "Defined NarrativeEng"
      ]
     },
     "metadata": {},
     "output_type": "display_data"
    }
   ],
   "source": [
    "concrete NarrativeEng of Narrative = {\n",
    "\n",
    "    lincat\n",
    "    Narrative = Str;\n",
    "    Element = Str;\n",
    "    Intro = Str;\n",
    "    \n",
    "    lin\n",
    "    element = \"El Paso\" ;\n",
    "    -- describe : Intro -> Element -> Narrative ;\n",
    "    describe v1 v2 = v1 ++ v2 ;\n",
    "    -- shows: Element -> Intro;\n",
    "    shows v1 = v1 ;\n",
    "    \n",
    "}"
   ]
  },
  {
   "cell_type": "code",
   "execution_count": 23,
   "metadata": {},
   "outputs": [
    {
     "data": {
      "text/plain": [
       "El Paso El Paso\n"
      ]
     },
     "metadata": {},
     "output_type": "display_data"
    }
   ],
   "source": [
    "gt | l"
   ]
  },
  {
   "cell_type": "code",
   "execution_count": null,
   "metadata": {},
   "outputs": [],
   "source": []
  }
 ],
 "metadata": {
  "kernelspec": {
   "display_name": "GF",
   "language": "gf",
   "name": "gf"
  },
  "language_info": {
   "file_extension": ".gf",
   "mimetype": "text/gf",
   "name": "gf"
  }
 },
 "nbformat": 4,
 "nbformat_minor": 4
}
