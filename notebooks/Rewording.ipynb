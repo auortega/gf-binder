{
 "cells": [
  {
   "cell_type": "code",
   "execution_count": 14,
   "metadata": {},
   "outputs": [
    {
     "data": {
      "text/plain": [
       "Abstract changed, previous concretes discarded.\n"
      ]
     },
     "metadata": {},
     "output_type": "display_data"
    }
   ],
   "source": [
    "abstract Syntax = {\n",
    "  cat\n",
    "    S;       -- sentence\n",
    "    NP;      -- noun phrase\n",
    "    VP;      -- verb phrase\n",
    "    PN;      -- proper noun\n",
    "    ConjNP;  -- conjunction of noun phrases\n",
    "\n",
    "  fun\n",
    "    Pred : NP -> VP -> S;        -- predicate: combines NP and VP into S\n",
    "    UsePN : PN -> NP;            -- converts a proper noun to a noun phrase\n",
    "    Conj : NP -> NP -> ConjNP;   -- conjunction of two noun phrases\n",
    "    PredConj : ConjNP -> VP -> S;-- predicate for conjunction of NPs\n",
    "    John : PN;                   -- proper noun \"John\"\n",
    "    Mary : PN;                   -- proper noun \"Mary\"\n",
    "    Picasso : PN;                -- proper noun \"Picasso\"\n",
    "    Loves : NP -> VP;            -- verb phrase \"loves someone\"\n",
    "    LovesPl : ConjNP -> VP;      -- plural verb phrase \"love someone\"\n",
    "};\n"
   ]
  },
  {
   "cell_type": "code",
   "execution_count": 15,
   "metadata": {},
   "outputs": [
    {
     "data": {
      "application/vnd.jupyter.widget-view+json": {
       "model_id": "571d31176cb5448d9ab98e44daba4fbf",
       "version_major": 2,
       "version_minor": 0
      },
      "text/plain": [
       "Dropdown(description='Tree of:', options=('Pred (UsePN John) (Loves (UsePN John))', 'Pred (UsePN John) (Loves …"
      ]
     },
     "metadata": {},
     "output_type": "display_data"
    },
    {
     "data": {
      "application/vnd.jupyter.widget-view+json": {
       "model_id": "66b0fa8d329c40f9b7330b1e5c0263f0",
       "version_major": 2,
       "version_minor": 0
      },
      "text/plain": [
       "Image(value=b'\\x89PNG\\r\\n\\x1a\\n\\x00\\x00\\x00\\rIHDR\\x00\\x00\\x01\\x08\\x00\\x00\\x01[\\x08\\x06\\x00\\x00\\x00)\\xec\\x10\\xa…"
      ]
     },
     "metadata": {},
     "output_type": "display_data"
    }
   ],
   "source": [
    "view gt |  vt"
   ]
  },
  {
   "cell_type": "code",
   "execution_count": 16,
   "metadata": {},
   "outputs": [
    {
     "data": {
      "text/plain": [
       "Defined English"
      ]
     },
     "metadata": {},
     "output_type": "display_data"
    }
   ],
   "source": [
    "concrete English of Syntax = {\n",
    "  lincat\n",
    "    S = Str;            -- linearization type for sentences is a string\n",
    "    NP = Str;           -- linearization type for noun phrases is a string\n",
    "    VP = Str;           -- linearization type for verb phrases is a string\n",
    "    PN = Str;           -- linearization type for proper nouns is a string\n",
    "    ConjNP = Str;       -- linearization type for conjunctions of noun phrases\n",
    "\n",
    "  lin\n",
    "    Pred np vp = np ++ \" \" ++ vp;                -- linearization rule for combining NP and VP\n",
    "    PredConj cnp vp = cnp ++ \" \" ++ vp;          -- linearization rule for combining ConjNP and VP\n",
    "    UsePN pn = pn;                               -- linearization rule for converting a PN to an NP\n",
    "    Conj np1 np2 = np1 ++ \" and \" ++ np2;        -- linearization rule for conjunction of two NPs\n",
    "    John = \"John\";                               -- linearization rule for \"John\"\n",
    "    Mary = \"Mary\";                               -- linearization rule for \"Mary\"\n",
    "    Picasso = \"Picasso\";                         -- linearization rule for \"Picasso\"\n",
    "    Loves np = \"loves\" ++ \" \" ++ np;             -- linearization rule for \"loves someone\"\n",
    "    LovesPl cnp = \"love\" ++ \" \" ++ cnp;          -- linearization rule for \"love someone\" in plural form\n",
    "};\n"
   ]
  },
  {
   "cell_type": "code",
   "execution_count": 17,
   "metadata": {},
   "outputs": [
    {
     "data": {
      "text/plain": [
       "John loves John\n",
       "John loves Mary\n",
       "John loves Picasso\n",
       "John love John and John\n",
       "John love John and Mary\n",
       "John love John and Picasso\n",
       "John love Mary and John\n",
       "John love Mary and Mary\n",
       "John love Mary and Picasso\n",
       "John love Picasso and John\n",
       "John love Picasso and Mary\n",
       "John love Picasso and Picasso\n",
       "Mary loves John\n",
       "Mary loves Mary\n",
       "Mary loves Picasso\n",
       "Mary love John and John\n",
       "Mary love John and Mary\n",
       "Mary love John and Picasso\n",
       "Mary love Mary and John\n",
       "Mary love Mary and Mary\n",
       "Mary love Mary and Picasso\n",
       "Mary love Picasso and John\n",
       "Mary love Picasso and Mary\n",
       "Mary love Picasso and Picasso\n",
       "Picasso loves John\n",
       "Picasso loves Mary\n",
       "Picasso loves Picasso\n",
       "Picasso love John and John\n",
       "Picasso love John and Mary\n",
       "Picasso love John and Picasso\n",
       "Picasso love Mary and John\n",
       "Picasso love Mary and Mary\n",
       "Picasso love Mary and Picasso\n",
       "Picasso love Picasso and John\n",
       "Picasso love Picasso and Mary\n",
       "Picasso love Picasso and Picasso\n",
       "John and John loves John\n",
       "John and John loves Mary\n",
       "John and John loves Picasso\n",
       "John and John love John and John\n",
       "John and John love John and Mary\n",
       "John and John love John and Picasso\n",
       "John and John love Mary and John\n",
       "John and John love Mary and Mary\n",
       "John and John love Mary and Picasso\n",
       "John and John love Picasso and John\n",
       "John and John love Picasso and Mary\n",
       "John and John love Picasso and Picasso\n",
       "John and Mary loves John\n",
       "John and Mary loves Mary\n",
       "John and Mary loves Picasso\n",
       "John and Mary love John and John\n",
       "John and Mary love John and Mary\n",
       "John and Mary love John and Picasso\n",
       "John and Mary love Mary and John\n",
       "John and Mary love Mary and Mary\n",
       "John and Mary love Mary and Picasso\n",
       "John and Mary love Picasso and John\n",
       "John and Mary love Picasso and Mary\n",
       "John and Mary love Picasso and Picasso\n",
       "John and Picasso loves John\n",
       "John and Picasso loves Mary\n",
       "John and Picasso loves Picasso\n",
       "John and Picasso love John and John\n",
       "John and Picasso love John and Mary\n",
       "John and Picasso love John and Picasso\n",
       "John and Picasso love Mary and John\n",
       "John and Picasso love Mary and Mary\n",
       "John and Picasso love Mary and Picasso\n",
       "John and Picasso love Picasso and John\n",
       "John and Picasso love Picasso and Mary\n",
       "John and Picasso love Picasso and Picasso\n",
       "Mary and John loves John\n",
       "Mary and John loves Mary\n",
       "Mary and John loves Picasso\n",
       "Mary and John love John and John\n",
       "Mary and John love John and Mary\n",
       "Mary and John love John and Picasso\n",
       "Mary and John love Mary and John\n",
       "Mary and John love Mary and Mary\n",
       "Mary and John love Mary and Picasso\n",
       "Mary and John love Picasso and John\n",
       "Mary and John love Picasso and Mary\n",
       "Mary and John love Picasso and Picasso\n",
       "Mary and Mary loves John\n",
       "Mary and Mary loves Mary\n",
       "Mary and Mary loves Picasso\n",
       "Mary and Mary love John and John\n",
       "Mary and Mary love John and Mary\n",
       "Mary and Mary love John and Picasso\n",
       "Mary and Mary love Mary and John\n",
       "Mary and Mary love Mary and Mary\n",
       "Mary and Mary love Mary and Picasso\n",
       "Mary and Mary love Picasso and John\n",
       "Mary and Mary love Picasso and Mary\n",
       "Mary and Mary love Picasso and Picasso\n",
       "Mary and Picasso loves John\n",
       "Mary and Picasso loves Mary\n",
       "Mary and Picasso loves Picasso\n",
       "Mary and Picasso love John and John\n",
       "Mary and Picasso love John and Mary\n",
       "Mary and Picasso love John and Picasso\n",
       "Mary and Picasso love Mary and John\n",
       "Mary and Picasso love Mary and Mary\n",
       "Mary and Picasso love Mary and Picasso\n",
       "Mary and Picasso love Picasso and John\n",
       "Mary and Picasso love Picasso and Mary\n",
       "Mary and Picasso love Picasso and Picasso\n",
       "Picasso and John loves John\n",
       "Picasso and John loves Mary\n",
       "Picasso and John loves Picasso\n",
       "Picasso and John love John and John\n",
       "Picasso and John love John and Mary\n",
       "Picasso and John love John and Picasso\n",
       "Picasso and John love Mary and John\n",
       "Picasso and John love Mary and Mary\n",
       "Picasso and John love Mary and Picasso\n",
       "Picasso and John love Picasso and John\n",
       "Picasso and John love Picasso and Mary\n",
       "Picasso and John love Picasso and Picasso\n",
       "Picasso and Mary loves John\n",
       "Picasso and Mary loves Mary\n",
       "Picasso and Mary loves Picasso\n",
       "Picasso and Mary love John and John\n",
       "Picasso and Mary love John and Mary\n",
       "Picasso and Mary love John and Picasso\n",
       "Picasso and Mary love Mary and John\n",
       "Picasso and Mary love Mary and Mary\n",
       "Picasso and Mary love Mary and Picasso\n",
       "Picasso and Mary love Picasso and John\n",
       "Picasso and Mary love Picasso and Mary\n",
       "Picasso and Mary love Picasso and Picasso\n",
       "Picasso and Picasso loves John\n",
       "Picasso and Picasso loves Mary\n",
       "Picasso and Picasso loves Picasso\n",
       "Picasso and Picasso love John and John\n",
       "Picasso and Picasso love John and Mary\n",
       "Picasso and Picasso love John and Picasso\n",
       "Picasso and Picasso love Mary and John\n",
       "Picasso and Picasso love Mary and Mary\n",
       "Picasso and Picasso love Mary and Picasso\n",
       "Picasso and Picasso love Picasso and John\n",
       "Picasso and Picasso love Picasso and Mary\n",
       "Picasso and Picasso love Picasso and Picasso\n"
      ]
     },
     "metadata": {},
     "output_type": "display_data"
    }
   ],
   "source": [
    "gt | l"
   ]
  },
  {
   "cell_type": "code",
   "execution_count": 11,
   "metadata": {},
   "outputs": [
    {
     "data": {
      "text/plain": [
       "Pred (UsePN John) (Loves (UsePN Mary))\n"
      ]
     },
     "metadata": {},
     "output_type": "display_data"
    }
   ],
   "source": [
    "p \"John loves Mary\""
   ]
  },
  {
   "cell_type": "code",
   "execution_count": 19,
   "metadata": {},
   "outputs": [
    {
     "data": {
      "text/plain": [
       "Input is neither a valid grammar nor a valid GF shell command!"
      ]
     },
     "metadata": {},
     "output_type": "display_data"
    }
   ],
   "source": [
    "\"Pred (UsePN John) (Loves (UsePN Mary))\" | l"
   ]
  },
  {
   "cell_type": "code",
   "execution_count": 20,
   "metadata": {},
   "outputs": [
    {
     "data": {
      "text/plain": [
       "John loves Mary\n"
      ]
     },
     "metadata": {},
     "output_type": "display_data"
    }
   ],
   "source": [
    "linearize -lang=English Pred (UsePN John) (Loves (UsePN Mary))"
   ]
  },
  {
   "cell_type": "code",
   "execution_count": null,
   "metadata": {},
   "outputs": [],
   "source": []
  }
 ],
 "metadata": {
  "kernelspec": {
   "display_name": "GF",
   "language": "gf",
   "name": "gf"
  },
  "language_info": {
   "file_extension": ".gf",
   "mimetype": "text/gf",
   "name": "gf"
  }
 },
 "nbformat": 4,
 "nbformat_minor": 4
}
